{
 "cells": [
  {
   "cell_type": "code",
   "execution_count": 1,
   "metadata": {},
   "outputs": [
    {
     "name": "stdout",
     "output_type": "stream",
     "text": [
      "[300, 300, 300, 150, 150, 150, 300, 300, 150, 150]\n"
     ]
    }
   ],
   "source": [
    "from threading import Thread\n",
    "import random\n",
    "import time\n",
    "\n",
    "class Balance:\n",
    "    def __init__(self, balance=200):\n",
    "        self.balance = balance\n",
    "\n",
    "    def deposit(self, amount):\n",
    "        balance = self.balance\n",
    "        time.sleep(random.random() / 10) # possible context switch here\n",
    "        self.balance = balance + amount\n",
    "\n",
    "    def withdraw(self, amount):\n",
    "        balance = self.balance\n",
    "        time.sleep(random.random()/ 10) # possible context switch here\n",
    "        self.balance = balance - amount\n",
    "\n",
    "    def get_balance(self):\n",
    "        time.sleep(random.random() / 10) # possible context switch here\n",
    "        return self.balance\n",
    "    \n",
    "def race_condition():\n",
    "    balance = Balance()\n",
    "    t1 = Thread(target=balance.deposit, args=(100,))\n",
    "    t2 = Thread(target=balance.withdraw, args=(50,))\n",
    "    t1.start(), t2.start()\n",
    "    t1.join(), t2.join()\n",
    "    return balance.get_balance()\n",
    "\n",
    "\n",
    "if __name__ == '__main__':\n",
    "    balances = [race_condition() for _ in range(10)]\n",
    "    print(balances)"
   ]
  }
 ],
 "metadata": {
  "kernelspec": {
   "display_name": "torch_last",
   "language": "python",
   "name": "python3"
  },
  "language_info": {
   "codemirror_mode": {
    "name": "ipython",
    "version": 3
   },
   "file_extension": ".py",
   "mimetype": "text/x-python",
   "name": "python",
   "nbconvert_exporter": "python",
   "pygments_lexer": "ipython3",
   "version": "3.10.9"
  }
 },
 "nbformat": 4,
 "nbformat_minor": 2
}
