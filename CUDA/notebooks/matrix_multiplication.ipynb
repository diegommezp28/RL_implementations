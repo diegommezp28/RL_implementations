{
 "cells": [
  {
   "cell_type": "code",
   "execution_count": null,
   "metadata": {},
   "outputs": [],
   "source": [
    "%cuda\n",
    "\n",
    "#include <stdio.h>\n",
    "\n",
    "__global__ void matrix_multiply(int *a, int *b, int *c, int N) {\n",
    "    int row = blockIdx.y * blockDim.y + threadIdx.y;\n",
    "    int col = blockIdx.x * blockDim.x + threadIdx.x;\n",
    "    int sum = 0;\n",
    "    if (row < N && col < N) {\n",
    "        for (int i = 0; i < N; i++) {\n",
    "            sum += a[row * N + i] * b[i * N + col];\n",
    "        }\n",
    "        c[row * N + col] = sum;\n",
    "    }\n",
    "}\n",
    "\n",
    "\n",
    "auto main() -> int {\n",
    "\n",
    "    return 0;\n",
    "}"
   ]
  }
 ],
 "metadata": {
  "language_info": {
   "name": "python"
  }
 },
 "nbformat": 4,
 "nbformat_minor": 2
}
