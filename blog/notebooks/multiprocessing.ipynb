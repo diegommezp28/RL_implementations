{
 "cells": [
  {
   "cell_type": "code",
   "execution_count": 1,
   "metadata": {},
   "outputs": [
    {
     "name": "stdout",
     "output_type": "stream",
     "text": [
      "['spawn']\n"
     ]
    }
   ],
   "source": [
    "import multiprocessing\n",
    "methods = multiprocessing.get_all_start_methods()\n",
    "print(methods)"
   ]
  },
  {
   "cell_type": "code",
   "execution_count": 1,
   "metadata": {},
   "outputs": [
    {
     "data": {
      "text/plain": [
       "<ipykernel.iostream.OutStream at 0x25007ca24d0>"
      ]
     },
     "execution_count": 1,
     "metadata": {},
     "output_type": "execute_result"
    }
   ],
   "source": [
    "import sys\n",
    "sys.stdout"
   ]
  },
  {
   "cell_type": "code",
   "execution_count": 2,
   "metadata": {},
   "outputs": [
    {
     "name": "stdout",
     "output_type": "stream",
     "text": [
      "Before defining mp_func\n",
      "Main Stream: <ipykernel.iostream.OutStream object at 0x0000025007CA24D0>\n",
      "Waiting for mp_func to end\n"
     ]
    }
   ],
   "source": [
    "import multiprocessing as mp\n",
    "from time import sleep\n",
    "from contextlib import redirect_stdout\n",
    "import sys\n",
    "\n",
    "print('Before defining mp_func')\n",
    "\n",
    "def mp_func():\n",
    "    print(f\"Child Stream: {sys.stdout}\")\n",
    "    print('Starting mp_func')\n",
    "    sleep(1)\n",
    "    print('Finishing mp_func')\n",
    "\n",
    "if __name__ == '__main__':\n",
    "    mp.set_start_method(\"spawn\")\n",
    "    print(f\"Main Stream: {sys.stdout}\")\n",
    "    p = mp.Process(target=mp_func)\n",
    "    p.start()\n",
    "    print('Waiting for mp_func to end')\n",
    "    p.join()"
   ]
  },
  {
   "cell_type": "code",
   "execution_count": 4,
   "metadata": {},
   "outputs": [
    {
     "name": "stdout",
     "output_type": "stream",
     "text": [
      "Waiting for the process...\n"
     ]
    }
   ],
   "source": [
    "from time import sleep\n",
    "from multiprocessing import Process, set_start_method\n",
    "import sys\n",
    "\n",
    "# a custom function that blocks for a moment\n",
    "def task():\n",
    "    # block for a moment\n",
    "    sleep(1)\n",
    "    # display a message\n",
    "    print('This is from another process')\n",
    "    sys.stdout.flush()\n",
    "\n",
    "def main():\n",
    "    # set the start method to 'spawn'\n",
    "    set_start_method('spawn', force=True)\n",
    "    # create a process\n",
    "    process = Process(target=task)\n",
    "    # run the process\n",
    "    process.start()\n",
    "    # wait for the process to finish\n",
    "    print('Waiting for the process...')\n",
    "    process.join()\n",
    "\n",
    "# entry point\n",
    "if __name__ == '__main__':\n",
    "    main()"
   ]
  },
  {
   "cell_type": "code",
   "execution_count": 3,
   "metadata": {},
   "outputs": [
    {
     "name": "stdout",
     "output_type": "stream",
     "text": [
      "This is from the main process\n",
      "Waiting for the process...\n"
     ]
    }
   ],
   "source": [
    "from multiprocessing_code import main_task\n",
    "\n",
    "# entry point\n",
    "print('This is from the main process')\n",
    "\n",
    "if __name__ == '__main__':\n",
    "    main_task()"
   ]
  },
  {
   "cell_type": "code",
   "execution_count": 2,
   "metadata": {},
   "outputs": [
    {
     "name": "stdout",
     "output_type": "stream",
     "text": [
      "Before defining mp_func\n",
      "Waiting for mp_func to end\n"
     ]
    }
   ],
   "source": [
    "import multiprocessing as mp\n",
    "from time import sleep\n",
    "\n",
    "print('Before defining mp_func')\n",
    "\n",
    "def mp_func():\n",
    "    print('Starting mp_func')\n",
    "    sleep(1)\n",
    "    print('Finishing mp_func')\n",
    "\n",
    "if __name__ == '__main__':\n",
    "    p = mp.Process(target=mp_func)\n",
    "    p.start()\n",
    "    print('Waiting for mp_func to end')\n",
    "    p.join()"
   ]
  },
  {
   "cell_type": "code",
   "execution_count": 4,
   "metadata": {},
   "outputs": [
    {
     "name": "stdout",
     "output_type": "stream",
     "text": [
      "Main Stream: <ipykernel.iostream.OutStream object at 0x0000025007CA24D0>\n"
     ]
    },
    {
     "ename": "TypeError",
     "evalue": "cannot pickle '_hashlib.HMAC' object",
     "output_type": "error",
     "traceback": [
      "\u001b[1;31m---------------------------------------------------------------------------\u001b[0m",
      "\u001b[1;31mTypeError\u001b[0m                                 Traceback (most recent call last)",
      "Cell \u001b[1;32mIn[4], line 7\u001b[0m\n\u001b[0;32m      5\u001b[0m \u001b[38;5;28mprint\u001b[39m(\u001b[38;5;124mf\u001b[39m\u001b[38;5;124m\"\u001b[39m\u001b[38;5;124mMain Stream: \u001b[39m\u001b[38;5;132;01m{\u001b[39;00msys\u001b[38;5;241m.\u001b[39mstdout\u001b[38;5;132;01m}\u001b[39;00m\u001b[38;5;124m\"\u001b[39m)\n\u001b[0;32m      6\u001b[0m p \u001b[38;5;241m=\u001b[39m mp\u001b[38;5;241m.\u001b[39mProcess(target\u001b[38;5;241m=\u001b[39mtask, args\u001b[38;5;241m=\u001b[39m(sys\u001b[38;5;241m.\u001b[39mstdout,))\n\u001b[1;32m----> 7\u001b[0m \u001b[43mp\u001b[49m\u001b[38;5;241;43m.\u001b[39;49m\u001b[43mstart\u001b[49m\u001b[43m(\u001b[49m\u001b[43m)\u001b[49m\n\u001b[0;32m      8\u001b[0m \u001b[38;5;28mprint\u001b[39m(\u001b[38;5;124m'\u001b[39m\u001b[38;5;124mWaiting for mp_func to end\u001b[39m\u001b[38;5;124m'\u001b[39m)\n\u001b[0;32m      9\u001b[0m p\u001b[38;5;241m.\u001b[39mjoin()\n",
      "File \u001b[1;32m~\\anaconda3\\envs\\torch_last\\lib\\multiprocessing\\process.py:121\u001b[0m, in \u001b[0;36mBaseProcess.start\u001b[1;34m(self)\u001b[0m\n\u001b[0;32m    118\u001b[0m \u001b[38;5;28;01massert\u001b[39;00m \u001b[38;5;129;01mnot\u001b[39;00m _current_process\u001b[38;5;241m.\u001b[39m_config\u001b[38;5;241m.\u001b[39mget(\u001b[38;5;124m'\u001b[39m\u001b[38;5;124mdaemon\u001b[39m\u001b[38;5;124m'\u001b[39m), \\\n\u001b[0;32m    119\u001b[0m        \u001b[38;5;124m'\u001b[39m\u001b[38;5;124mdaemonic processes are not allowed to have children\u001b[39m\u001b[38;5;124m'\u001b[39m\n\u001b[0;32m    120\u001b[0m _cleanup()\n\u001b[1;32m--> 121\u001b[0m \u001b[38;5;28mself\u001b[39m\u001b[38;5;241m.\u001b[39m_popen \u001b[38;5;241m=\u001b[39m \u001b[38;5;28;43mself\u001b[39;49m\u001b[38;5;241;43m.\u001b[39;49m\u001b[43m_Popen\u001b[49m\u001b[43m(\u001b[49m\u001b[38;5;28;43mself\u001b[39;49m\u001b[43m)\u001b[49m\n\u001b[0;32m    122\u001b[0m \u001b[38;5;28mself\u001b[39m\u001b[38;5;241m.\u001b[39m_sentinel \u001b[38;5;241m=\u001b[39m \u001b[38;5;28mself\u001b[39m\u001b[38;5;241m.\u001b[39m_popen\u001b[38;5;241m.\u001b[39msentinel\n\u001b[0;32m    123\u001b[0m \u001b[38;5;66;03m# Avoid a refcycle if the target function holds an indirect\u001b[39;00m\n\u001b[0;32m    124\u001b[0m \u001b[38;5;66;03m# reference to the process object (see bpo-30775)\u001b[39;00m\n",
      "File \u001b[1;32m~\\anaconda3\\envs\\torch_last\\lib\\multiprocessing\\context.py:224\u001b[0m, in \u001b[0;36mProcess._Popen\u001b[1;34m(process_obj)\u001b[0m\n\u001b[0;32m    222\u001b[0m \u001b[38;5;129m@staticmethod\u001b[39m\n\u001b[0;32m    223\u001b[0m \u001b[38;5;28;01mdef\u001b[39;00m \u001b[38;5;21m_Popen\u001b[39m(process_obj):\n\u001b[1;32m--> 224\u001b[0m     \u001b[38;5;28;01mreturn\u001b[39;00m \u001b[43m_default_context\u001b[49m\u001b[38;5;241;43m.\u001b[39;49m\u001b[43mget_context\u001b[49m\u001b[43m(\u001b[49m\u001b[43m)\u001b[49m\u001b[38;5;241;43m.\u001b[39;49m\u001b[43mProcess\u001b[49m\u001b[38;5;241;43m.\u001b[39;49m\u001b[43m_Popen\u001b[49m\u001b[43m(\u001b[49m\u001b[43mprocess_obj\u001b[49m\u001b[43m)\u001b[49m\n",
      "File \u001b[1;32m~\\anaconda3\\envs\\torch_last\\lib\\multiprocessing\\context.py:336\u001b[0m, in \u001b[0;36mSpawnProcess._Popen\u001b[1;34m(process_obj)\u001b[0m\n\u001b[0;32m    333\u001b[0m \u001b[38;5;129m@staticmethod\u001b[39m\n\u001b[0;32m    334\u001b[0m \u001b[38;5;28;01mdef\u001b[39;00m \u001b[38;5;21m_Popen\u001b[39m(process_obj):\n\u001b[0;32m    335\u001b[0m     \u001b[38;5;28;01mfrom\u001b[39;00m \u001b[38;5;21;01m.\u001b[39;00m\u001b[38;5;21;01mpopen_spawn_win32\u001b[39;00m \u001b[38;5;28;01mimport\u001b[39;00m Popen\n\u001b[1;32m--> 336\u001b[0m     \u001b[38;5;28;01mreturn\u001b[39;00m \u001b[43mPopen\u001b[49m\u001b[43m(\u001b[49m\u001b[43mprocess_obj\u001b[49m\u001b[43m)\u001b[49m\n",
      "File \u001b[1;32m~\\anaconda3\\envs\\torch_last\\lib\\multiprocessing\\popen_spawn_win32.py:93\u001b[0m, in \u001b[0;36mPopen.__init__\u001b[1;34m(self, process_obj)\u001b[0m\n\u001b[0;32m     91\u001b[0m \u001b[38;5;28;01mtry\u001b[39;00m:\n\u001b[0;32m     92\u001b[0m     reduction\u001b[38;5;241m.\u001b[39mdump(prep_data, to_child)\n\u001b[1;32m---> 93\u001b[0m     \u001b[43mreduction\u001b[49m\u001b[38;5;241;43m.\u001b[39;49m\u001b[43mdump\u001b[49m\u001b[43m(\u001b[49m\u001b[43mprocess_obj\u001b[49m\u001b[43m,\u001b[49m\u001b[43m \u001b[49m\u001b[43mto_child\u001b[49m\u001b[43m)\u001b[49m\n\u001b[0;32m     94\u001b[0m \u001b[38;5;28;01mfinally\u001b[39;00m:\n\u001b[0;32m     95\u001b[0m     set_spawning_popen(\u001b[38;5;28;01mNone\u001b[39;00m)\n",
      "File \u001b[1;32m~\\anaconda3\\envs\\torch_last\\lib\\multiprocessing\\reduction.py:60\u001b[0m, in \u001b[0;36mdump\u001b[1;34m(obj, file, protocol)\u001b[0m\n\u001b[0;32m     58\u001b[0m \u001b[38;5;28;01mdef\u001b[39;00m \u001b[38;5;21mdump\u001b[39m(obj, file, protocol\u001b[38;5;241m=\u001b[39m\u001b[38;5;28;01mNone\u001b[39;00m):\n\u001b[0;32m     59\u001b[0m \u001b[38;5;250m    \u001b[39m\u001b[38;5;124;03m'''Replacement for pickle.dump() using ForkingPickler.'''\u001b[39;00m\n\u001b[1;32m---> 60\u001b[0m     \u001b[43mForkingPickler\u001b[49m\u001b[43m(\u001b[49m\u001b[43mfile\u001b[49m\u001b[43m,\u001b[49m\u001b[43m \u001b[49m\u001b[43mprotocol\u001b[49m\u001b[43m)\u001b[49m\u001b[38;5;241;43m.\u001b[39;49m\u001b[43mdump\u001b[49m\u001b[43m(\u001b[49m\u001b[43mobj\u001b[49m\u001b[43m)\u001b[49m\n",
      "\u001b[1;31mTypeError\u001b[0m: cannot pickle '_hashlib.HMAC' object"
     ]
    }
   ],
   "source": [
    "from multiprocessing_code import task\n",
    "import sys\n",
    "\n",
    "if __name__ == '__main__':\n",
    "    print(f\"Main Stream: {sys.stdout}\")\n",
    "    p = mp.Process(target=task, args=(sys.stdout,))\n",
    "    p.start()\n",
    "    print('Waiting for mp_func to end')\n",
    "    p.join()"
   ]
  },
  {
   "cell_type": "code",
   "execution_count": 8,
   "metadata": {},
   "outputs": [
    {
     "data": {
      "text/plain": [
       "{'session': <jupyter_client.session.Session at 0x25007ca2e30>,\n",
       " 'pub_thread': <ipykernel.iostream.IOPubThread at 0x25007ca1180>,\n",
       " 'name': 'stdout',\n",
       " 'topic': b'stream.stdout',\n",
       " 'parent_header': {'date': datetime.datetime(2024, 6, 6, 20, 49, 13, 455000, tzinfo=tzutc()),\n",
       "  'msg_id': '293de804a22842b99bc39b7fb794eb4a',\n",
       "  'username': 'username',\n",
       "  'session': '82300d13b12246998d5acb7fd7786c3a',\n",
       "  'msg_type': 'execute_request',\n",
       "  'version': '5.2'},\n",
       " '_master_pid': 4944,\n",
       " '_flush_pending': False,\n",
       " '_subprocess_flush_pending': False,\n",
       " '_io_loop': <tornado.platform.asyncio.AsyncIOLoop at 0x25007ca1420>,\n",
       " '_buffer_lock': <unlocked _thread.RLock object owner=0 count=0 at 0x0000025007AB0280>,\n",
       " '_buffer': <_io.StringIO at 0x250080235b0>,\n",
       " 'echo': None,\n",
       " '_isatty': False,\n",
       " '_should_watch': False,\n",
       " 'softspace': 0}"
      ]
     },
     "execution_count": 8,
     "metadata": {},
     "output_type": "execute_result"
    }
   ],
   "source": [
    "import sys\n",
    "\n",
    "\n",
    "ipy_stdout = sys.stdout\n",
    "\n",
    "ipy_stdout.__dict__"
   ]
  },
  {
   "cell_type": "code",
   "execution_count": 10,
   "metadata": {},
   "outputs": [
    {
     "data": {
      "text/plain": [
       "<ipykernel.iostream.OutStream at 0x25007ca24d0>"
      ]
     },
     "execution_count": 10,
     "metadata": {},
     "output_type": "execute_result"
    }
   ],
   "source": [
    "import ipykernel\n",
    "\n",
    "sys.stdout"
   ]
  },
  {
   "cell_type": "code",
   "execution_count": 1,
   "metadata": {},
   "outputs": [
    {
     "name": "stdout",
     "output_type": "stream",
     "text": [
      "Waiting for mp_func to end\n",
      "Starting mp_func\n",
      "Finishing mp_func\n",
      "mp_func completed successfully\n"
     ]
    }
   ],
   "source": [
    "import multiprocessing as mp\n",
    "from time import sleep\n",
    "from multiprocessing_code import mp_func\n",
    "\n",
    "if __name__ == '__main__':\n",
    "    queue = mp.Queue()\n",
    "    p = mp.Process(target=mp_func, args=(queue,))\n",
    "    p.start()\n",
    "    print('Waiting for mp_func to end')\n",
    "    p.join()\n",
    "    # Get output from the queue\n",
    "    while not queue.empty():\n",
    "        print(queue.get())"
   ]
  }
 ],
 "metadata": {
  "kernelspec": {
   "display_name": "Python 3 (ipykernel)",
   "language": "python",
   "name": "python3"
  },
  "language_info": {
   "codemirror_mode": {
    "name": "ipython",
    "version": 3
   },
   "file_extension": ".py",
   "mimetype": "text/x-python",
   "name": "python",
   "nbconvert_exporter": "python",
   "pygments_lexer": "ipython3",
   "version": "3.10.9"
  }
 },
 "nbformat": 4,
 "nbformat_minor": 2
}
